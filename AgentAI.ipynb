{
  "nbformat": 4,
  "nbformat_minor": 0,
  "metadata": {
    "colab": {
      "provenance": [],
      "authorship_tag": "ABX9TyO1fwvq2qXX2U92+sam3SZo",
      "include_colab_link": true
    },
    "kernelspec": {
      "name": "python3",
      "display_name": "Python 3"
    },
    "language_info": {
      "name": "python"
    }
  },
  "cells": [
    {
      "cell_type": "markdown",
      "metadata": {
        "id": "view-in-github",
        "colab_type": "text"
      },
      "source": [
        "<a href=\"https://colab.research.google.com/github/BeiningOu/p2025/blob/main/AgentAI.ipynb\" target=\"_parent\"><img src=\"https://colab.research.google.com/assets/colab-badge.svg\" alt=\"Open In Colab\"/></a>"
      ]
    },
    {
      "cell_type": "markdown",
      "source": [
        "https://www.coursera.org/learn/develop-generative-ai-applications-get-started/ungradedLti/qwJb4/lab-master-prompt-engineering-and-langchain-prompttemplates\n",
        "\n",
        "\n",
        "Install required libraries\n",
        "The following required libraries are not preinstalled in the Skills Network Labs environment. You must run the following cell to install them:\n",
        "\n",
        "Note: The version has been pinned to ensure compatibility. It's recommended that you do the same. While future updates may be available, the pinned version ensures that the library continues to support this lab.\n",
        "\n",
        "This might take approximately 1-2 minutes.\n",
        "\n",
        "%%capture has been used to capture the installation, so you won’t see the process. However, once the installation is complete, a number will appear next to the cell."
      ],
      "metadata": {
        "id": "W59LTPq9FwVS"
      }
    },
    {
      "cell_type": "code",
      "execution_count": 16,
      "metadata": {
        "id": "aICFeeSFf9i_"
      },
      "outputs": [],
      "source": [
        "%%capture\n",
        "!pip install \"ibm-watsonx-ai==1.0.8\"\n",
        "!pip install \"langchain==0.2.11\"\n",
        "!pip install \"langchain-ibm==0.1.7\"\n",
        "!pip install \"langchain-core==0.2.43\""
      ]
    },
    {
      "cell_type": "code",
      "source": [
        "# !pip list"
      ],
      "metadata": {
        "collapsed": true,
        "id": "--G-TBUog_u5"
      },
      "execution_count": 17,
      "outputs": []
    },
    {
      "cell_type": "code",
      "source": [
        "def warn(*args, **kwargs):\n",
        "    pass\n",
        "import warnings\n",
        "warnings.warn = warn\n",
        "warnings.filterwarnings('ignore')\n",
        "\n",
        "# IBM WatsonX imports\n",
        "from ibm_watsonx_ai.foundation_models import Model\n",
        "from ibm_watsonx_ai.metanames import GenTextParamsMetaNames as GenParams\n",
        "from ibm_watsonx_ai.foundation_models.utils.enums import ModelTypes\n",
        "\n",
        "from langchain_ibm import WatsonxLLM\n",
        "from langchain_core.prompts import PromptTemplate, ChatPromptTemplate\n",
        "from langchain_core.output_parsers import StrOutputParser\n",
        "from langchain_core.runnables import RunnablePassthrough, RunnableSequence\n",
        "from langchain_core.messages import HumanMessage, SystemMessage\n",
        "from langchain.chains import LLMChain"
      ],
      "metadata": {
        "colab": {
          "base_uri": "https://localhost:8080/",
          "height": 384
        },
        "id": "ZfOIAAUcKJ6L",
        "outputId": "eb8a1674-ad7a-4775-f365-ec449548e5fa"
      },
      "execution_count": 18,
      "outputs": [
        {
          "output_type": "error",
          "ename": "ModuleNotFoundError",
          "evalue": "No module named 'ibm_watsonx_ai'",
          "traceback": [
            "\u001b[0;31m---------------------------------------------------------------------------\u001b[0m",
            "\u001b[0;31mModuleNotFoundError\u001b[0m                       Traceback (most recent call last)",
            "\u001b[0;32m/tmp/ipython-input-1266151145.py\u001b[0m in \u001b[0;36m<cell line: 0>\u001b[0;34m()\u001b[0m\n\u001b[1;32m      6\u001b[0m \u001b[0;34m\u001b[0m\u001b[0m\n\u001b[1;32m      7\u001b[0m \u001b[0;31m# IBM WatsonX imports\u001b[0m\u001b[0;34m\u001b[0m\u001b[0;34m\u001b[0m\u001b[0m\n\u001b[0;32m----> 8\u001b[0;31m \u001b[0;32mfrom\u001b[0m \u001b[0mibm_watsonx_ai\u001b[0m\u001b[0;34m.\u001b[0m\u001b[0mfoundation_models\u001b[0m \u001b[0;32mimport\u001b[0m \u001b[0mModel\u001b[0m\u001b[0;34m\u001b[0m\u001b[0;34m\u001b[0m\u001b[0m\n\u001b[0m\u001b[1;32m      9\u001b[0m \u001b[0;32mfrom\u001b[0m \u001b[0mibm_watsonx_ai\u001b[0m\u001b[0;34m.\u001b[0m\u001b[0mmetanames\u001b[0m \u001b[0;32mimport\u001b[0m \u001b[0mGenTextParamsMetaNames\u001b[0m \u001b[0;32mas\u001b[0m \u001b[0mGenParams\u001b[0m\u001b[0;34m\u001b[0m\u001b[0;34m\u001b[0m\u001b[0m\n\u001b[1;32m     10\u001b[0m \u001b[0;32mfrom\u001b[0m \u001b[0mibm_watsonx_ai\u001b[0m\u001b[0;34m.\u001b[0m\u001b[0mfoundation_models\u001b[0m\u001b[0;34m.\u001b[0m\u001b[0mutils\u001b[0m\u001b[0;34m.\u001b[0m\u001b[0menums\u001b[0m \u001b[0;32mimport\u001b[0m \u001b[0mModelTypes\u001b[0m\u001b[0;34m\u001b[0m\u001b[0;34m\u001b[0m\u001b[0m\n",
            "\u001b[0;31mModuleNotFoundError\u001b[0m: No module named 'ibm_watsonx_ai'",
            "",
            "\u001b[0;31m---------------------------------------------------------------------------\u001b[0;32m\nNOTE: If your import is failing due to a missing package, you can\nmanually install dependencies using either !pip or !apt.\n\nTo view examples of installing some common dependencies, click the\n\"Open Examples\" button below.\n\u001b[0;31m---------------------------------------------------------------------------\u001b[0m\n"
          ],
          "errorDetails": {
            "actions": [
              {
                "action": "open_url",
                "actionText": "Open Examples",
                "url": "/notebooks/snippets/importing_libraries.ipynb"
              }
            ]
          }
        }
      ]
    }
  ]
}